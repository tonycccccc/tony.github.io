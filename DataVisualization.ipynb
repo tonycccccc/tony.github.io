{
  "nbformat": 4,
  "nbformat_minor": 0,
  "metadata": {
    "colab": {
      "name": "DataVisualization.ipynb",
      "provenance": [],
      "authorship_tag": "ABX9TyNrO5+pwl4zlIua8Sye4rky",
      "include_colab_link": true
    },
    "kernelspec": {
      "name": "python3",
      "display_name": "Python 3"
    },
    "language_info": {
      "name": "python"
    }
  },
  "cells": [
    {
      "cell_type": "markdown",
      "metadata": {
        "id": "view-in-github",
        "colab_type": "text"
      },
      "source": [
        "<a href=\"https://colab.research.google.com/github/tonycccccc/tony.github.io/blob/main/DataVisualization.ipynb\" target=\"_parent\"><img src=\"https://colab.research.google.com/assets/colab-badge.svg\" alt=\"Open In Colab\"/></a>"
      ]
    },
    {
      "cell_type": "code",
      "metadata": {
        "id": "S5Dvwb9iG69a"
      },
      "source": [
        "import matplotlib.pyplot as plt\n",
        "import numpy as np"
      ],
      "execution_count": null,
      "outputs": []
    },
    {
      "cell_type": "code",
      "metadata": {
        "colab": {
          "base_uri": "https://localhost:8080/"
        },
        "id": "an2wtDFbHFeO",
        "outputId": "1811d373-44ac-45a0-daf9-7c87c7e50228"
      },
      "source": [
        "from google.colab import drive\n",
        "drive.mount('/content/drive')"
      ],
      "execution_count": null,
      "outputs": [
        {
          "output_type": "stream",
          "name": "stdout",
          "text": [
            "Mounted at /content/drive\n"
          ]
        }
      ]
    },
    {
      "cell_type": "code",
      "metadata": {
        "colab": {
          "base_uri": "https://localhost:8080/"
        },
        "id": "rzu3u8kSHWXB",
        "outputId": "79599d8d-72b9-4b23-e6f8-b8c517270354"
      },
      "source": [
        "%cd /content/drive/MyDrive/models/transformer"
      ],
      "execution_count": null,
      "outputs": [
        {
          "output_type": "stream",
          "name": "stdout",
          "text": [
            "/content/drive/MyDrive/models/transformer\n"
          ]
        }
      ]
    },
    {
      "cell_type": "code",
      "metadata": {
        "id": "cQDfqkj9IcSb"
      },
      "source": [
        "Test with 12 matrix with each 576 * 64 * 16 * 64 shape original method\n",
        "Before running : (5435819264.000000, 5435819264.000000)\n",
        "After Iteration 0 : (6446647040.000000, 5888804608.000000)\n",
        "After Iteration 1 : (6635390720.000000, 6073353984.000000)\n",
        "After Iteration 2 : (6824134400.000000, 6224348928.000000)\n",
        "After Iteration 3 : (7012878080.000000, 6375343872.000000)\n",
        "After Iteration 4 : (7050626816.000000, 6492784384.000000)\n",
        "After Iteration 5 : (7239370496.000000, 6677333760.000000)\n",
        "After Iteration 6 : (7730104064.000000, 7130318592.000000)\n",
        "After Iteration 7 : (7881099008.000000, 7281313536.000000)\n",
        "After Iteration 8 : (8032093952.000000, 7432308480.000000)\n",
        "After Iteration 9 : (8183088896.000000, 7583303424.000000)\n",
        "After Iteration 10 :(8334083840.000000, 7839155968.000000)\n",
        "After Iteration 11 :(8589936384.000000, 7994345216.000000)"
      ],
      "execution_count": null,
      "outputs": []
    },
    {
      "cell_type": "code",
      "metadata": {
        "id": "EFcYzgoqIiJH"
      },
      "source": [
        "Test with 12 matrix with each 576 * 64 * 16 * 64 shape one_step_before_final method\n",
        "Before running : (5435819264.000000, 5435819264.000000)\n",
        "After Iteration 0 : (5789091584.000000, 5789091584.000000)\n",
        "After Iteration 1 : (6002272000.000000, 5960876032.000000)\n",
        "After Iteration 2 : (6114723584.000000, 6114723584.000000)\n",
        "After Iteration 3 : (6263641856.000000, 6263641856.000000)\n",
        "After Iteration 4 : (6424839936.000000, 6424839936.000000)\n",
        "After Iteration 5 : (6579541760.000000, 6579541760.000000)\n",
        "After Iteration 6 : (6810494720.000000, 6810494720.000000)\n",
        "After Iteration 7 : (6971731968.000000, 6971731968.000000)\n",
        "After Iteration 8 : (7123683072.000000, 7119329024.000000)\n",
        "After Iteration 9 : (7354586880.000000, 7354586880.000000)\n",
        "After Iteration 10 :(7508657920.000000, 7508657920.000000)\n",
        "After Iteration 11 :(7660431104.000000, 7660431104.000000)"
      ],
      "execution_count": null,
      "outputs": []
    },
    {
      "cell_type": "code",
      "metadata": {
        "id": "bx6aMw6QHhpV"
      },
      "source": [
        "Test with 12 matrix with each 576 * 64 * 16 * 64 shape optimized method\n",
        "Before running : (5435819264.000000, 5435819264.000000)\n",
        "After Iteration 0 : (5493572096.000000, 5493572096.000000)\n",
        "After Iteration 1 : (5516148480.000000, 5516148480.000000)\n",
        "After Iteration 2 : (5527585280.000000, 5527585280.000000)\n",
        "After Iteration 3 : (5555504896.000000, 5555504896.000000)\n",
        "After Iteration 4 : (5582014208.000000, 5569693440.000000)\n",
        "After Iteration 5 : (5583701504.000000, 5583701504.000000)\n",
        "After Iteration 6 : (5603114496.000000, 5603114496.000000)\n",
        "After Iteration 7 : (5615369984.000000, 5613813760.000000)\n",
        "After Iteration 8 : (5637373952.000000, 5637373952.000000)\n",
        "After Iteration 9 : (5660067584.000000, 5660067584.000000)\n",
        "After Iteration 10 :(5682102016.000000, 5675171584.000000)\n",
        "After Iteration 11 :(5694685184.000000, 5694685184.000000)"
      ],
      "execution_count": null,
      "outputs": []
    },
    {
      "cell_type": "code",
      "metadata": {
        "colab": {
          "base_uri": "https://localhost:8080/",
          "height": 298
        },
        "id": "Utav7bO3Izzj",
        "outputId": "05edb0d3-b50c-46b1-949e-2f6a01cd24b5"
      },
      "source": [
        "iteration = np.arange(13)\n",
        "old = [5435819264.000000,\n",
        "       6446647040.000000,\n",
        "       6635390720.000000,\n",
        "       6824134400.000000,\n",
        "       7012878080.000000,\n",
        "       7050626816.000000,\n",
        "       7239370496.000000,\n",
        "       7730104064.000000,\n",
        "       7881099008.000000,\n",
        "       8032093952.000000,\n",
        "       8183088896.000000,\n",
        "       8334083840.000000,\n",
        "       8589936384.000000]\n",
        "new = [5435819264.000000,\n",
        "       5789091584.000000,\n",
        "       6002272000.000000,\n",
        "       6114723584.000000,\n",
        "       6263641856.000000,\n",
        "       6424839936.000000,\n",
        "       6579541760.000000,\n",
        "       6810494720.000000,\n",
        "       6971731968.000000,\n",
        "       7123683072.000000,\n",
        "       7354586880.000000,\n",
        "       7508657920.000000,\n",
        "       7660431104.000000]\n",
        "optimized = [5435819264.000000,\n",
        "             5493572096.000000,\n",
        "             5516148480.000000,\n",
        "             5527585280.000000,\n",
        "             5555504896.000000,\n",
        "             5582014208.000000,\n",
        "             5583701504.000000,\n",
        "             5603114496.000000,\n",
        "             5615369984.000000,\n",
        "             5637373952.000000,\n",
        "             5660067584.000000,\n",
        "             5682102016.000000,\n",
        "             5694685184.000000]\n",
        "plt.plot(iteration,old,'r',label=\"original\")\n",
        "plt.plot(iteration,new,'b',label='old')\n",
        "plt.plot(iteration,optimized,'g',label='optimized')\n",
        "plt.legend()\n",
        "plt.title(\"Peak Memory Usage\")"
      ],
      "execution_count": null,
      "outputs": [
        {
          "output_type": "execute_result",
          "data": {
            "text/plain": [
              "Text(0.5, 1.0, 'Peak Memory Usage')"
            ]
          },
          "metadata": {},
          "execution_count": 6
        },
        {
          "output_type": "display_data",
          "data": {
            "image/png": "[encoded data removed]",
            "text/plain": [
              "<Figure size 432x288 with 1 Axes>"
            ]
          },
          "metadata": {
            "needs_background": "light"
          }
        }
      ]
    },
    {
      "cell_type": "code",
      "metadata": {
        "id": "A_dPa8e_KSM8",
        "colab": {
          "base_uri": "https://localhost:8080/",
          "height": 298
        },
        "outputId": "d58499aa-6112-4a8e-e3bf-d2aaf29529c2"
      },
      "source": [
        "iteration = np.arange(13)\n",
        "old = [5435819264.000000,\n",
        "       5888804608.000000,\n",
        "       6073353984.000000,\n",
        "       6224348928.000000,\n",
        "       6375343872.000000,\n",
        "       6492784384.000000,\n",
        "       6677333760.000000,\n",
        "       7130318592.000000,\n",
        "       7281313536.000000,\n",
        "       7432308480.000000,\n",
        "       7583303424.000000,\n",
        "       7839155968.000000,\n",
        "       7994345216.000000]\n",
        "new = [5435819264.000000,\n",
        "       5789091584.000000,\n",
        "       5960876032.000000,\n",
        "       6114723584.000000,\n",
        "       6263641856.000000,\n",
        "       6424839936.000000,\n",
        "       6579541760.000000,\n",
        "       6810494720.000000,\n",
        "       6971731968.000000,\n",
        "       7119329024.000000,\n",
        "       7354586880.000000,\n",
        "       7508657920.000000,\n",
        "       7660431104.000000]\n",
        "optimized = [5435819264.000000,\n",
        "             5493572096.000000,\n",
        "             5516148480.000000,\n",
        "             5527585280.000000,\n",
        "             5555504896.000000,\n",
        "             5569693440.000000,\n",
        "             5583701504.000000,\n",
        "             5603114496.000000,\n",
        "             5613813760.000000,\n",
        "             5637373952.000000,\n",
        "             5660067584.000000,\n",
        "             5675171584.000000,\n",
        "             5694685184.000000]\n",
        "plt.plot(iteration,old,'r',label=\"original\")\n",
        "plt.plot(iteration,new,'b',label='old')\n",
        "plt.plot(iteration,optimized,'g',label='optimized')\n",
        "plt.title(\"Current Memory Usage\")"
      ],
      "execution_count": null,
      "outputs": [
        {
          "output_type": "execute_result",
          "data": {
            "text/plain": [
              "Text(0.5, 1.0, 'Current Memory Usage')"
            ]
          },
          "metadata": {},
          "execution_count": 21
        },
        {
          "output_type": "display_data",
          "data": {
            "image/png": "[encoded data removed]",
            "text/plain": [
              "<Figure size 432x288 with 1 Axes>"
            ]
          },
          "metadata": {
            "needs_background": "light"
          }
        }
      ]
    },
    {
      "cell_type": "code",
      "metadata": {
        "id": "Nx__X5NLyEG6"
      },
      "source": [
        ""
      ],
      "execution_count": null,
      "outputs": []
    }
  ]
}