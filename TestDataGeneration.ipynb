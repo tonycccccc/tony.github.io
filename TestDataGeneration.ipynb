{
  "nbformat": 4,
  "nbformat_minor": 0,
  "metadata": {
    "colab": {
      "name": "TestDataGeneration.ipynb",
      "provenance": [],
      "collapsed_sections": []
    },
    "kernelspec": {
      "name": "python3",
      "display_name": "Python 3"
    },
    "language_info": {
      "name": "python"
    }
  },
  "cells": [
    {
      "cell_type": "code",
      "execution_count": null,
      "metadata": {
        "colab": {
          "base_uri": "https://localhost:8080/"
        },
        "id": "40kFjSWG4BDm",
        "outputId": "2ad54036-e5f2-410a-eed8-86d2099178b6"
      },
      "outputs": [
        {
          "output_type": "stream",
          "name": "stdout",
          "text": [
            "Drive already mounted at /content/drive; to attempt to forcibly remount, call drive.mount(\"/content/drive\", force_remount=True).\n"
          ]
        }
      ],
      "source": [
        "import tensorflow as tf\n",
        "import numpy as np\n",
        "from google.colab import drive\n",
        "drive.mount('/content/drive')"
      ]
    },
    {
      "cell_type": "code",
      "source": [
        "import glob\n",
        "import os\n",
        "# load matrix from files\n",
        "all_query_files = glob.glob(\"/content/drive/MyDrive/models/transformer/logging_query*.txt\")\n",
        "all_key_files = glob.glob(\"/content/drive/MyDrive/models/transformer/logging_key*.txt\")\n",
        "all_value_files = glob.glob(\"/content/drive/MyDrive/models/transformer/logging_value*.txt\")\n",
        "all_bias_files = glob.glob(\"/content/drive/MyDrive/models/transformer/logging_bias*.txt\")\n",
        "query_matrix = []\n",
        "key_matrix = []\n",
        "value_matrix = []\n",
        "bias_matrix=[]\n",
        "for file in all_query_files:\n",
        "    query_file = tf.io.read_file(file)\n",
        "    query = tf.io.parse_tensor(query_file, out_type=tf.float32)\n",
        "    query_matrix.append(query)\n",
        "for file in all_key_files:\n",
        "    key_file = tf.io.read_file(file)\n",
        "    key = tf.io.parse_tensor(key_file, out_type=tf.float32)\n",
        "    key_matrix.append(key)\n",
        "for file in all_value_files:\n",
        "    value_file = tf.io.read_file(file)\n",
        "    value = tf.io.parse_tensor(value_file, out_type=tf.float32)\n",
        "    value_matrix.append(value)\n",
        "for file in all_bias_files:\n",
        "    bias_file = tf.io.read_file(file)\n",
        "    bias = tf.io.parse_tensor(bias_file, out_type=tf.float32)\n",
        "    bias_matrix.append(bias)"
      ],
      "metadata": {
        "id": "TtH_tGTL4Lhu"
      },
      "execution_count": null,
      "outputs": []
    },
    {
      "cell_type": "code",
      "source": [
        "query_matrix = np.concatenate(query_matrix)\n",
        "key_matrix = np.concatenate(key_matrix)\n",
        "value_matrix = np.concatenate(value_matrix)\n",
        "matrix_num = 4"
      ],
      "metadata": {
        "id": "KggxV4eC6peM"
      },
      "execution_count": null,
      "outputs": []
    },
    {
      "cell_type": "code",
      "source": [
        "# Generate Test Matrix with shape 1 * n * 16 * 64\n",
        "# Set matrix_size to 2k, 4k, 8k, 16k, 32k, and 64k\n",
        "matrix_size = 4 * 1024\n",
        "query = []\n",
        "key = []\n",
        "value = []\n",
        "path = \"/content/drive/MyDrive/models/transformer/Test/\"\n",
        "for i in range(matrix_num):\n",
        "  data_query = []\n",
        "  data_key = []\n",
        "  data_value = []\n",
        "  for j in range(matrix_size // 64):\n",
        "    idx = np.random.randint(0, 576)\n",
        "    data_query.append(query_matrix[idx, :, :, :])\n",
        "    data_key.append(key_matrix[idx, :, :, :])\n",
        "    data_value.append(value_matrix[idx, :, :, :])\n",
        "  query_temp = np.concatenate(data_query)\n",
        "  key_temp = np.concatenate(data_key)\n",
        "  value_temp = np.concatenate(data_value)\n",
        "  query.append(query_temp[None, :, :, :])\n",
        "  key.append(key_temp[None, :, :, :])\n",
        "  value.append(value_temp[None, :, :, :])\n",
        "  print(query_temp[None, :, :, :].shape)\n",
        "  string0 = tf.io.serialize_tensor(query_temp[None, :, :, :])\n",
        "  tf.io.write_file(path+\"logging_query\" + str(i) + \".txt\", string0)\n",
        "  string1 = tf.io.serialize_tensor(key_temp[None, :, :, :])\n",
        "  tf.io.write_file(path+\"logging_key\" + str(i) + \".txt\", string1)\n",
        "  string2 = tf.io.serialize_tensor(value_temp[None, :, :, :])\n",
        "  tf.io.write_file(path+\"logging_value\" + str(i) + \".txt\", string2)\n",
        "  string3 = tf.io.serialize_tensor(bias_matrix[0])\n",
        "  tf.io.write_file(path+\"logging_bias\"+ str(i) + \".txt\", string3)"
      ],
      "metadata": {
        "id": "lazF4al94MPY",
        "colab": {
          "base_uri": "https://localhost:8080/"
        },
        "outputId": "8feee879-a4cc-4454-a7bd-2d98f43b1718"
      },
      "execution_count": null,
      "outputs": [
        {
          "output_type": "stream",
          "name": "stdout",
          "text": [
            "(1, 4096, 16, 64)\n",
            "(1, 4096, 16, 64)\n",
            "(1, 4096, 16, 64)\n",
            "(1, 4096, 16, 64)\n"
          ]
        }
      ]
    },
    {
      "cell_type": "code",
      "source": [
        "query_matrix.shape"
      ],
      "metadata": {
        "colab": {
          "base_uri": "https://localhost:8080/"
        },
        "id": "hBXMLULxrvWN",
        "outputId": "5a1c2657-d704-40fb-99ff-e817114d5dbf"
      },
      "execution_count": null,
      "outputs": [
        {
          "output_type": "execute_result",
          "data": {
            "text/plain": [
              "(8, 1, 4096, 16, 64)"
            ]
          },
          "metadata": {},
          "execution_count": 5
        }
      ]
    },
    {
      "cell_type": "code",
      "source": [
        ""
      ],
      "metadata": {
        "id": "E4hxiMJg4hDT"
      },
      "execution_count": null,
      "outputs": []
    },
    {
      "cell_type": "code",
      "source": [
        ""
      ],
      "metadata": {
        "id": "OQVGcOpt8RJ5",
        "colab": {
          "base_uri": "https://localhost:8080/"
        },
        "outputId": "3dbaba8d-d0bf-4c99-a459-6e3582910aed"
      },
      "execution_count": null,
      "outputs": [
        {
          "output_type": "execute_result",
          "data": {
            "text/plain": [
              "(1, 262144, 16, 64)"
            ]
          },
          "metadata": {},
          "execution_count": 51
        }
      ]
    },
    {
      "cell_type": "code",
      "source": [
        ""
      ],
      "metadata": {
        "id": "cyiZARMHD7hE"
      },
      "execution_count": null,
      "outputs": []
    }
  ]
}