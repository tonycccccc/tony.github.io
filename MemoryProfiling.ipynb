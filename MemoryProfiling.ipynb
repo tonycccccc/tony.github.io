{
  "nbformat": 4,
  "nbformat_minor": 0,
  "metadata": {
    "colab": {
      "name": "MemoryProfiling.ipynb",
      "provenance": [],
      "collapsed_sections": []
    },
    "kernelspec": {
      "display_name": "Python 3",
      "name": "python3"
    },
    "language_info": {
      "name": "python"
    },
    "accelerator": "GPU"
  },
  "cells": [
    {
      "cell_type": "markdown",
      "metadata": {
        "id": "QENBGjMov0U3"
      },
      "source": [
        "Notebook for doing MemoryProfiling -- All the attention layer related matrices in this notebook are generated through running target githuib repo. \\\n",
        "Author: Zeyu Chen"
      ]
    },
    {
      "cell_type": "code",
      "metadata": {
        "id": "k8DAsG7P3czW"
      },
      "source": [
        "import tensorflow as tf\n",
        "import numpy as np"
      ],
      "execution_count": null,
      "outputs": []
    },
    {
      "cell_type": "code",
      "metadata": {
        "id": "o1DhEOnv9Sl0",
        "colab": {
          "base_uri": "https://localhost:8080/"
        },
        "outputId": "e9426bc5-d3e6-4857-c6cc-f83e1ed5528e"
      },
      "source": [
        "! nvidia-smi"
      ],
      "execution_count": null,
      "outputs": [
        {
          "output_type": "stream",
          "name": "stdout",
          "text": [
            "Wed Dec 15 05:28:36 2021       \n",
            "+-----------------------------------------------------------------------------+\n",
            "| NVIDIA-SMI 495.44       Driver Version: 460.32.03    CUDA Version: 11.2     |\n",
            "|-------------------------------+----------------------+----------------------+\n",
            "| GPU  Name        Persistence-M| Bus-Id        Disp.A | Volatile Uncorr. ECC |\n",
            "| Fan  Temp  Perf  Pwr:Usage/Cap|         Memory-Usage | GPU-Util  Compute M. |\n",
            "|                               |                      |               MIG M. |\n",
            "|===============================+======================+======================|\n",
            "|   0  Tesla P100-PCIE...  Off  | 00000000:00:04.0 Off |                    0 |\n",
            "| N/A   39C    P0    27W / 250W |      0MiB / 16280MiB |      0%      Default |\n",
            "|                               |                      |                  N/A |\n",
            "+-------------------------------+----------------------+----------------------+\n",
            "                                                                               \n",
            "+-----------------------------------------------------------------------------+\n",
            "| Processes:                                                                  |\n",
            "|  GPU   GI   CI        PID   Type   Process name                  GPU Memory |\n",
            "|        ID   ID                                                   Usage      |\n",
            "|=============================================================================|\n",
            "|  No running processes found                                                 |\n",
            "+-----------------------------------------------------------------------------+\n"
          ]
        }
      ]
    },
    {
      "cell_type": "code",
      "metadata": {
        "id": "cHQztIIDaam7",
        "colab": {
          "base_uri": "https://localhost:8080/"
        },
        "outputId": "5e267b15-d979-423d-813f-12ecd6279de0"
      },
      "source": [
        "from google.colab import drive\n",
        "drive.mount('/content/drive')"
      ],
      "execution_count": null,
      "outputs": [
        {
          "output_type": "stream",
          "name": "stdout",
          "text": [
            "Drive already mounted at /content/drive; to attempt to forcibly remount, call drive.mount(\"/content/drive\", force_remount=True).\n"
          ]
        }
      ]
    },
    {
      "cell_type": "code",
      "metadata": {
        "id": "xmVJeDXrvYtz"
      },
      "source": [
        "# Memory Profiling Sample Method\n",
        "def MemoryCheck(self, memory_used):\n",
        "if (tf.config.list_physical_devices('GPU')):\n",
        "  # Reser the memory state\n",
        "  tf.config.experimental.reset_memory_stats('GPU:0')\n",
        "  # Creates the first peak memory usage.\n",
        "  x = tf.convert_to_tensor(memory_used)\n",
        "  del x\n",
        "  memory = tf.config.experimental.get_memory_info('GPU:0')['peak']\n",
        "  return memory"
      ],
      "execution_count": null,
      "outputs": []
    },
    {
      "cell_type": "code",
      "metadata": {
        "id": "sefKcjsmpGmP"
      },
      "source": [
        "# Iteration times we want to test our algorithm\n",
        "\n",
        "iteration_num = 6\n",
        "matrix_num = 6"
      ],
      "execution_count": null,
      "outputs": []
    },
    {
      "cell_type": "code",
      "metadata": {
        "id": "DNhbXashaT5v",
        "colab": {
          "base_uri": "https://localhost:8080/"
        },
        "outputId": "782234c4-e970-4b83-d77c-225a6ed50a71"
      },
      "source": [
        "import glob\n",
        "import os\n",
        "# load matrix from files\n",
        "all_query_files = glob.glob(\"/content/drive/MyDrive/models/transformer/logging_query*.txt\")\n",
        "all_key_files = glob.glob(\"/content/drive/MyDrive/models/transformer/logging_key*.txt\")\n",
        "all_value_files = glob.glob(\"/content/drive/MyDrive/models/transformer/logging_value*.txt\")\n",
        "all_bias_files = glob.glob(\"/content/drive/MyDrive/models/transformer/logging_bias*.txt\")\n",
        "query_matrix = []\n",
        "key_matrix = []\n",
        "value_matrix = []\n",
        "for file in all_query_files:\n",
        "    query_file = tf.io.read_file(file)\n",
        "    query = tf.io.parse_tensor(query_file, out_type=tf.float32)\n",
        "    query_matrix.append(query)\n",
        "for file in all_key_files:\n",
        "    key_file = tf.io.read_file(file)\n",
        "    key = tf.io.parse_tensor(key_file, out_type=tf.float32)\n",
        "    key_matrix.append(key)\n",
        "for file in all_value_files:\n",
        "    value_file = tf.io.read_file(file)\n",
        "    value = tf.io.parse_tensor(value_file, out_type=tf.float32)\n",
        "    value_matrix.append(value)\n",
        "query_matrix[0].shape"
      ],
      "execution_count": null,
      "outputs": [
        {
          "output_type": "execute_result",
          "data": {
            "text/plain": [
              "TensorShape([64, 64, 16, 64])"
            ]
          },
          "metadata": {},
          "execution_count": 5
        }
      ]
    },
    {
      "cell_type": "code",
      "metadata": {
        "id": "HXzk58Y0Qb9T",
        "colab": {
          "base_uri": "https://localhost:8080/"
        },
        "outputId": "cc8b1719-38e0-4ce8-fad4-73b14b981637"
      },
      "source": [
        "# Testing matrix with all one large matrixes\n",
        "# tf.concat not doing same thing\n",
        "# All three matrix at this time should have shape as (64k) * 64 * 16 * 64\n",
        "query_matrix = np.concatenate(query_matrix)\n",
        "key_matrix = np.concatenate(key_matrix)\n",
        "value_matrix = np.concatenate(value_matrix)\n",
        "print(query_matrix.shape)\n",
        "print(key_matrix.shape)\n",
        "print(value_matrix.shape)"
      ],
      "execution_count": null,
      "outputs": [
        {
          "output_type": "stream",
          "name": "stdout",
          "text": [
            "(576, 64, 16, 64)\n",
            "(576, 64, 16, 64)\n",
            "(576, 64, 16, 64)\n"
          ]
        }
      ]
    },
    {
      "cell_type": "code",
      "metadata": {
        "id": "4_XYCEKdN7Rg"
      },
      "source": [
        "# Testing matrix mixed with large and normal matrix\n",
        "query_matrix = np.random.shuffle(query_matrix)\n",
        "prob = np.random.rand(1)\n",
        "data = []\n",
        "for i in range(query_matrix.size):\n",
        "  if prob > 0.5:\n",
        "    num = np.random.randint(10)\n",
        "    matrix = np.random.choice(query_matrix, [num, 1])\n",
        "    data.append(np.concatenate(matrix))\n",
        "  else:\n",
        "    data.append(np.random.choice(query_matrix, 1))\n",
        "query_matrix = np.array(data)"
      ],
      "execution_count": null,
      "outputs": []
    },
    {
      "cell_type": "code",
      "metadata": {
        "id": "XvSsVBEYUdYn"
      },
      "source": [
        "# Testing with several randomly generated large matrix\n",
        "data_query = []\n",
        "data_key = []\n",
        "data_value = []\n",
        "np.random.shuffle(query_matrix)\n",
        "np.random.shuffle(key_matrix)\n",
        "np.random.shuffle(value_matrix)\n",
        "for i in range(iteration_num):\n",
        "  if i == iteration_num // 2:\n",
        "    np.random.shuffle(query_matrix)\n",
        "    np.random.shuffle(key_matrix)\n",
        "    np.random.shuffle(value_matrix)\n",
        "  data_query.append(np.concatenate(query_matrix))\n",
        "  data_key.append(np.concatenate(key_matrix))\n",
        "  data_value.append(np.concatenate(value_matrix))\n",
        "  # data_query.append(query_matrix)\n",
        "  # data_key.append(key_matrix)\n",
        "  # data_value.append(value_matrix)\n",
        "# query_matrix = np.concatenate(data_query)[None, :, :, :, :]\n",
        "# key_matrix = np.concatenate(data_key)[None, :, :, :, :]\n",
        "# value_matrix = np.concatenate(data_value)[None, :, :, :, :]\n",
        "# query_matrix = np.concatenate(data_query)\n",
        "# key_matrix = np.concatenate(data_key)\n",
        "# value_matrix = np.concatenate(data_value)\n",
        "query_matrix = np.array(data_query)\n",
        "key_matrix = np.array(data_key)\n",
        "value_matrix = np.array(data_value)"
      ],
      "execution_count": null,
      "outputs": []
    },
    {
      "cell_type": "code",
      "metadata": {
        "id": "njnliF8CJ1u4",
        "colab": {
          "base_uri": "https://localhost:8080/"
        },
        "outputId": "0620fdad-2ac4-459d-9005-61b0431c4229"
      },
      "source": [
        "# Generate Test Matrix with shape 1 * n * 16 * 64\n",
        "# Set matrix_size to 2k, 4k, 8k, 16k, 32k, and 64k\n",
        "matrix_size = 4 * 1024\n",
        "query = []\n",
        "key = []\n",
        "value = []\n",
        "for i in range(matrix_num):\n",
        "  data_query = []\n",
        "  data_key = []\n",
        "  data_value = []\n",
        "  for j in range(matrix_size // 64):\n",
        "    idx = np.random.randint(0, 576)\n",
        "    data_query.append(query_matrix[idx, :, :, :])\n",
        "    data_key.append(key_matrix[idx, :, :, :])\n",
        "    data_value.append(value_matrix[idx, :, :, :])\n",
        "  query_temp = np.concatenate(data_query)\n",
        "  key_temp = np.concatenate(data_key)\n",
        "  value_temp = np.concatenate(data_value)\n",
        "  query.append(query_temp[None, :, :, :])\n",
        "  key.append(key_temp[None, :, :, :])\n",
        "  value.append(value_temp[None, :, :, :])\n",
        "  print(query[-1].shape)\n",
        "query_matrix = np.array(query)\n",
        "key_matrix = np.array(key)\n",
        "value_matrix = np.array(value)"
      ],
      "execution_count": null,
      "outputs": [
        {
          "output_type": "stream",
          "name": "stdout",
          "text": [
            "(1, 4096, 16, 64)\n",
            "(1, 4096, 16, 64)\n",
            "(1, 4096, 16, 64)\n",
            "(1, 4096, 16, 64)\n",
            "(1, 4096, 16, 64)\n",
            "(1, 4096, 16, 64)\n"
          ]
        }
      ]
    },
    {
      "cell_type": "code",
      "source": [
        "query_matrix.shape"
      ],
      "metadata": {
        "colab": {
          "base_uri": "https://localhost:8080/"
        },
        "id": "yu7u75g-05qf",
        "outputId": "6cf6016a-6b6d-49c2-aaf7-eecde1efaf17"
      },
      "execution_count": null,
      "outputs": [
        {
          "output_type": "execute_result",
          "data": {
            "text/plain": [
              "(6, 1, 4096, 16, 64)"
            ]
          },
          "metadata": {},
          "execution_count": 8
        }
      ]
    },
    {
      "cell_type": "code",
      "metadata": {
        "id": "UyPs4e8yU1Ef"
      },
      "source": [
        "# bias matrix are generated randomly with undetermined shape in the original code repo, so process it separately here\n",
        "dummy = []\n",
        "for file in all_bias_files:\n",
        "    bias_file = tf.io.read_file(file)\n",
        "    bias = tf.io.parse_tensor(bias_file, out_type=tf.float32)\n",
        "    dummy = dummy + list(bias.numpy().reshape([-1]))\n",
        "dummy = np.array(dummy)\n",
        "#idx = np.random.choice(np.array(dummy), tuple(query_matrix.shape), replace=True)\n",
        "idx = np.random.choice(np.array(dummy), [1, 64, 1, 64], replace=True)\n",
        "bias_matrix = idx"
      ],
      "execution_count": null,
      "outputs": []
    },
    {
      "cell_type": "code",
      "metadata": {
        "id": "WG5PC28O2WKl"
      },
      "source": [
        "# Convert all numpy matrices to tensors before doing the memory profiling\n",
        "query_matrix = tf.convert_to_tensor(query_matrix)\n",
        "key_matrix = tf.convert_to_tensor(key_matrix)\n",
        "value_matrix = tf.convert_to_tensor(value_matrix)"
      ],
      "execution_count": null,
      "outputs": []
    },
    {
      "cell_type": "code",
      "metadata": {
        "id": "3vFKA8GWnCLY",
        "colab": {
          "base_uri": "https://localhost:8080/"
        },
        "outputId": "2ba3ba64-82d8-4ade-c17b-02f4d8c77d0e"
      },
      "source": [
        "# Append all profiling result to a csv file so we can do data visualization\n",
        "old_file_path = \"/content/drive/MyDrive/models/transformer/old_4k.txt\"\n",
        "if False:\n",
        "  os.remove(old_file_path)\n",
        "f = open(old_file_path, 'a')\n",
        "f.write(\"\\nTest with one matrix with 576 * 64 * 16 * 64 shape\\n\")"
      ],
      "execution_count": null,
      "outputs": [
        {
          "output_type": "execute_result",
          "data": {
            "text/plain": [
              "52"
            ]
          },
          "metadata": {},
          "execution_count": 11
        }
      ]
    },
    {
      "cell_type": "code",
      "metadata": {
        "id": "pEWnQ8_jVRq1",
        "colab": {
          "base_uri": "https://localhost:8080/"
        },
        "outputId": "c5f55a30-a85c-46f3-bc7d-8dc213c8dcc0"
      },
      "source": [
        "import time\n",
        "# Code with separated test matrix\n",
        "res = []\n",
        "if (tf.config.list_physical_devices('GPU')):\n",
        "  tf.keras.backend.clear_session()\n",
        "  print(\"Before doing attention operations. Reset the memory\")\n",
        "  tf.config.experimental.reset_memory_stats('GPU:0')\n",
        "  memory1 = tf.config.experimental.get_memory_info('GPU:0')\n",
        "  print(memory1['peak'])\n",
        "  print(memory1['current'])\n",
        "  f.write(\"Before running : (%f, %f)\\n\" % (memory1['peak'], memory1['current']))\n",
        "  start = time.time()\n",
        "  for i in range(matrix_num):\n",
        "    query = query_matrix[i]\n",
        "    key = key_matrix[i]\n",
        "    value = value_matrix[i]\n",
        "    # query = query_matrix\n",
        "    # key = key_matrix\n",
        "    # value = value_matrix\n",
        "    bias_value = bias_matrix\n",
        "    bias = bias_value[0, 0, 0, 0]\n",
        "    logits = tf.einsum(\"BTNH,BFNH->BNFT\", key, query)\n",
        "    logits += bias\n",
        "    weights = tf.nn.softmax(logits, name=\"attention_weights\")\n",
        "    weights = tf.nn.dropout(weights, rate=0.4)\n",
        "    old_attention_output = tf.einsum(\"BNFT,BTNH->BFNH\", weights, value)\n",
        "    res.append(old_attention_output)\n",
        "    memory2 = tf.config.experimental.get_memory_info('GPU:0')\n",
        "    print(\"Memory after attention operation.\")\n",
        "    print(memory2['peak'])\n",
        "    print(memory2['current'])\n",
        "    f.write(\"After Iteration %d : (%f, %f)\\n\" % (i, memory2['peak'], memory2['current']))\n",
        "    f.write(\"Iteration %d : time %f\" % (i, time.time()-start))\n",
        "f.close()"
      ],
      "execution_count": null,
      "outputs": [
        {
          "output_type": "stream",
          "name": "stdout",
          "text": [
            "Before doing attention operations. Reset the memory\n",
            "369100032\n",
            "369100032\n",
            "Memory after attention operation.\n",
            "7079986944\n",
            "2533361408\n",
            "Memory after attention operation.\n",
            "7096764160\n",
            "2550138624\n",
            "Memory after attention operation.\n",
            "7113541376\n",
            "2566915840\n",
            "Memory after attention operation.\n",
            "9277802240\n",
            "4731176704\n",
            "Memory after attention operation.\n",
            "9294579456\n",
            "4747953920\n",
            "Memory after attention operation.\n",
            "9311356672\n",
            "4764731136\n"
          ]
        }
      ]
    },
    {
      "cell_type": "code",
      "metadata": {
        "id": "BeGRJ0TzqUtd",
        "colab": {
          "base_uri": "https://localhost:8080/"
        },
        "outputId": "2b7bf536-33e3-451f-ffa0-0f8cbfc139a1"
      },
      "source": [
        "new_file_path = \"/content/drive/MyDrive/models/transformer/new4k.txt\"\n",
        "if False:\n",
        "  os.remove(new_file_path)\n",
        "f = open(new_file_path, 'a')\n",
        "f.write(\"\\nTest with one matrix with 576 * 64 * 16 * 64 shape\\n\")"
      ],
      "execution_count": null,
      "outputs": [
        {
          "output_type": "execute_result",
          "data": {
            "text/plain": [
              "52"
            ]
          },
          "metadata": {},
          "execution_count": 12
        }
      ]
    },
    {
      "cell_type": "code",
      "metadata": {
        "id": "tGKB066saArq",
        "colab": {
          "base_uri": "https://localhost:8080/"
        },
        "outputId": "d5d311a7-95de-439e-b515-1c6193d2b59b"
      },
      "source": [
        "import time\n",
        "# Try some new stuff\n",
        "new_res = []\n",
        "if (tf.config.list_physical_devices('GPU')):\n",
        "  tf.keras.backend.clear_session()\n",
        "  print(\"Before doing attention operations. Reset the memory\")\n",
        "  tf.config.experimental.reset_memory_stats('GPU:0')\n",
        "  memory1 = tf.config.experimental.get_memory_info('GPU:0')\n",
        "  print(memory1['peak'])\n",
        "  print(memory1['current'])\n",
        "  start = time.time()\n",
        "  f.write(\"Before running : (%f, %f)\\n\" % (memory1['peak'], memory1['current']))\n",
        "  # 将变量整合到function里面，尝试融合多个value矩阵concat形成的大矩阵， 尝试更高的granularity\n",
        "  for i in range(matrix_num):\n",
        "    query = query_matrix[i]\n",
        "    key = key_matrix[i]\n",
        "    value = value_matrix[i]\n",
        "    # query = query_matrix\n",
        "    # key = key_matrix\n",
        "    # value = value_matrix\n",
        "    batch_size, source_length, head_num, dim = tf.shape(query).numpy()\n",
        "    _,key_length,_,_, = tf.shape(key).numpy()\n",
        "    batch_granularity = 32\n",
        "    head_granularity = 8\n",
        "    bias_value = bias_matrix[0, np.random.randint(64), 0, np.random.randint(64)]\n",
        "    # The outermost loop loops through batch_size, with granularity as stride\n",
        "    for batch in tf.range(0, batch_size, batch_granularity):\n",
        "      for head in tf.range(0, head_num, head_granularity):\n",
        "        batch_termination = batch + batch_granularity if batch + batch_granularity <= batch_size else batch_size\n",
        "        for unit_batch in tf.range(batch, batch_termination):\n",
        "          head_termination = head + head_granularity if head + head_granularity <= head_num else head_num\n",
        "          for unit_head in tf.range(head, head_termination):\n",
        "            for query_source in tf.split(query[unit_batch, :, unit_head, :], num_or_size_splits=1, axis=0):\n",
        "              key_source = key[unit_batch, :, unit_head, :]\n",
        "              result = tf.matmul(query_source, tf.transpose(key_source))\n",
        "              result = bias_value + result\n",
        "              #Row granularity\n",
        "              result = tf.nn.softmax(result, name=\"attention_weights\")\n",
        "              result = tf.nn.dropout(result, rate=0.4)\n",
        "            value_source = value[unit_batch, :, unit_head, :]\n",
        "            attention_output = tf.matmul(result, value_source) #Matrix with size F * H\n",
        "\n",
        "            if unit_head == head:\n",
        "              attention_output = tf.expand_dims(attention_output, axis=1)\n",
        "              output_from_unit_head = attention_output\n",
        "            else:\n",
        "              attention_output = tf.expand_dims(attention_output, axis=1)\n",
        "              output_from_unit_head = tf.concat([output_from_unit_head, attention_output], 1)\n",
        "          if unit_batch == batch:\n",
        "            output_from_unit_head = tf.expand_dims(output_from_unit_head, axis=0)\n",
        "            output_from_unit_batch = output_from_unit_head\n",
        "          else:\n",
        "            output_from_unit_head = tf.expand_dims(output_from_unit_head, axis=0)\n",
        "            output_from_unit_batch = tf.concat([output_from_unit_batch, output_from_unit_head], 0)\n",
        "        if head == 0:\n",
        "          suboutput = output_from_unit_batch\n",
        "        else:\n",
        "          suboutput = tf.concat([suboutput, output_from_unit_batch], 2)\n",
        "      if batch == 0:\n",
        "        output = suboutput\n",
        "      else:\n",
        "        output = tf.concat([output, suboutput], 0)\n",
        "    new_res.append(output)\n",
        "    memory2 = tf.config.experimental.get_memory_info('GPU:0')\n",
        "    print(\"Memory profiling using FLAT\")\n",
        "    print(memory2['peak'])\n",
        "    print(memory2['current'])\n",
        "    f.write(\"After Iteration %d : (%f, %f)\\n\" % (i, memory2['peak'], memory2['current']))\n",
        "    f.write(\"After Iteration %d : (%f)\\n\" % (i, time.time() - start))\n",
        "f.close()"
      ],
      "execution_count": null,
      "outputs": [
        {
          "output_type": "stream",
          "name": "stdout",
          "text": [
            "Before doing attention operations. Reset the memory\n",
            "369100032\n",
            "369100032\n",
            "Memory profiling using FLAT\n",
            "794820864\n",
            "471859712\n",
            "Memory profiling using FLAT\n",
            "877658368\n",
            "571474432\n",
            "Memory profiling using FLAT\n",
            "901775616\n",
            "586154496\n",
            "Memory profiling using FLAT\n",
            "916455680\n",
            "599785984\n",
            "Memory profiling using FLAT\n",
            "952107008\n",
            "654311680\n",
            "Memory profiling using FLAT\n",
            "991952896\n",
            "677380352\n"
          ]
        }
      ]
    },
    {
      "cell_type": "code",
      "metadata": {
        "colab": {
          "base_uri": "https://localhost:8080/"
        },
        "id": "3qdyVxJw8usB",
        "outputId": "f7bee2e8-04d8-4d1a-d71c-45cb7218d7d8"
      },
      "source": [
        "! nvidia-smi"
      ],
      "execution_count": null,
      "outputs": [
        {
          "output_type": "stream",
          "name": "stdout",
          "text": [
            "Wed Dec  1 03:04:30 2021       \n",
            "+-----------------------------------------------------------------------------+\n",
            "| NVIDIA-SMI 495.44       Driver Version: 460.32.03    CUDA Version: 11.2     |\n",
            "|-------------------------------+----------------------+----------------------+\n",
            "| GPU  Name        Persistence-M| Bus-Id        Disp.A | Volatile Uncorr. ECC |\n",
            "| Fan  Temp  Perf  Pwr:Usage/Cap|         Memory-Usage | GPU-Util  Compute M. |\n",
            "|                               |                      |               MIG M. |\n",
            "|===============================+======================+======================|\n",
            "|   0  Tesla P100-PCIE...  Off  | 00000000:00:04.0 Off |                    0 |\n",
            "| N/A   34C    P0    33W / 250W |  15855MiB / 16280MiB |      0%      Default |\n",
            "|                               |                      |                  N/A |\n",
            "+-------------------------------+----------------------+----------------------+\n",
            "                                                                               \n",
            "+-----------------------------------------------------------------------------+\n",
            "| Processes:                                                                  |\n",
            "|  GPU   GI   CI        PID   Type   Process name                  GPU Memory |\n",
            "|        ID   ID                                                   Usage      |\n",
            "|=============================================================================|\n",
            "|  No running processes found                                                 |\n",
            "+-----------------------------------------------------------------------------+\n"
          ]
        }
      ]
    },
    {
      "cell_type": "code",
      "metadata": {
        "colab": {
          "base_uri": "https://localhost:8080/"
        },
        "id": "THDi9W77KW_w",
        "outputId": "d1699f73-78b9-4d59-b992-f49b683306c9"
      },
      "source": [
        "optimized_file_path = \"/content/drive/MyDrive/models/transformer/optimized4k.txt\"\n",
        "if False:\n",
        "  os.remove(new_file_path)\n",
        "f = open(optimized_file_path, 'a')\n",
        "f.write(\"\\nTest with 12 matrix with each 576 * 64 * 16 * 64 shape\\n\")"
      ],
      "execution_count": null,
      "outputs": [
        {
          "output_type": "execute_result",
          "data": {
            "text/plain": [
              "56"
            ]
          },
          "metadata": {},
          "execution_count": 10
        }
      ]
    },
    {
      "cell_type": "code",
      "metadata": {
        "colab": {
          "base_uri": "https://localhost:8080/"
        },
        "id": "5jOX-tIPYqcs",
        "outputId": "977e3c4e-c419-487f-f8d5-736a7ecf289c"
      },
      "source": [
        "print(query_matrix.shape)"
      ],
      "execution_count": null,
      "outputs": [
        {
          "output_type": "stream",
          "name": "stdout",
          "text": [
            "(6, 1, 4096, 16, 64)\n"
          ]
        }
      ]
    },
    {
      "cell_type": "code",
      "metadata": {
        "id": "OYw7HYAhKiSC",
        "colab": {
          "base_uri": "https://localhost:8080/"
        },
        "outputId": "b0a98a9e-f8cf-4372-b378-9e4800ef8547"
      },
      "source": [
        "import time\n",
        "# What if user wants to try even higher granularity?\n",
        "new_res = []\n",
        "if (tf.config.list_physical_devices('GPU')):\n",
        "  # tf.keras.backend.clear_session()\n",
        "  print(\"Before doing attention operations. Reset the memory\")\n",
        "  tf.config.experimental.reset_memory_stats('GPU:0')\n",
        "  memory1 = tf.config.experimental.get_memory_info('GPU:0')\n",
        "  print(memory1['peak'])\n",
        "  print(memory1['current'])\n",
        "  f.write(\"Before running : (%f, %f)\\n\" % (memory1['peak'], memory1['current']))\n",
        "  start = time.time()\n",
        "  for i in range(matrix_num):\n",
        "    query = query_matrix[i]\n",
        "    key = key_matrix[i]\n",
        "    value = value_matrix[i]\n",
        "    # query = query_matrix\n",
        "    # key = key_matrix\n",
        "    # value = value_matrix\n",
        "    batch_size, source_length, head_num, dim = tf.shape(query).numpy()\n",
        "    _,key_length,_,_, = tf.shape(key).numpy()\n",
        "    batch_granularity = 32\n",
        "    head_granularity = 16\n",
        "    bias_value = bias_matrix[0, np.random.randint(64), 0, np.random.randint(64)]\n",
        "    for batch in tf.range(0, batch_size, batch_granularity):\n",
        "      for head in tf.range(0, head_num, head_granularity):\n",
        "        batch_termination = batch + batch_granularity if batch + batch_granularity <= batch_size else batch_size\n",
        "        for unit_batch in tf.range(batch, batch_termination):\n",
        "          head_termination = head + head_granularity if head + head_granularity <= head_num else head_num\n",
        "          for unit_head in tf.range(head, head_termination, 8):\n",
        "            # query_source now should be 64 * 8 * 64\n",
        "            query_source = tf.gather(query[unit_batch, :, :, :], indices=tf.range(unit_head, unit_head + 8), axis=1)\n",
        "            key_source = tf.gather(key[unit_batch, :, :, :], indices=tf.range(unit_head, unit_head + 8), axis=1)\n",
        "            result = tf.einsum(\"TNH, FNH->NFT\", key_source, query_source)\n",
        "            # result += bias_value[None, :, :]\n",
        "            result += bias_value\n",
        "            result = tf.nn.softmax(result, name=\"attention_weights\")\n",
        "            result = tf.nn.dropout(result, rate=0.4)\n",
        "            if unit_head == head:\n",
        "              logit = result\n",
        "            else:\n",
        "              # Concatenate over head num dimension\n",
        "              logit = tf.concat([logit, result], axis=0)\n",
        "          value_source = value[unit_batch, :, :, :]\n",
        "          attention_output = tf.einsum(\"NFT,TNH->FNH\", logit, value_source)\n",
        "          if unit_batch == batch:\n",
        "            attention_output = tf.expand_dims(attention_output, axis=0)\n",
        "            output_from_unit_batch = attention_output\n",
        "          else:\n",
        "            attention_output = tf.expand_dims(attention_output, axis=0)\n",
        "            output_from_unit_batch = tf.concat([output_from_unit_batch, attention_output], 0)\n",
        "        if head == 0:\n",
        "          suboutput = output_from_unit_batch\n",
        "        else:\n",
        "          suboutput = tf.concat([suboutput, output_from_unit_batch], 2)\n",
        "      if batch == 0:\n",
        "        output = suboutput\n",
        "      else:\n",
        "        output = tf.concat([output, suboutput], 0)\n",
        "    new_res.append(output)\n",
        "    memory2 = tf.config.experimental.get_memory_info('GPU:0')\n",
        "    print(\"Memory profiling using FLAT\")\n",
        "    print(memory2['peak'])\n",
        "    print(memory2['current'])\n",
        "    f.write(\"After Iteration %d : (%f, %f)\\n\" % (i, memory2['peak'], memory2['current']))\n",
        "    f.write(\"After Iteration %d : (%f)\\n\" % (i, time.time()-start))\n",
        "f.close()"
      ],
      "execution_count": null,
      "outputs": [
        {
          "output_type": "stream",
          "name": "stdout",
          "text": [
            "Before doing attention operations. Reset the memory\n",
            "369100032\n",
            "369100032\n",
            "Memory profiling using FLAT\n",
            "4294969088\n",
            "2566915840\n",
            "Memory profiling using FLAT\n",
            "4848617216\n",
            "2583693056\n",
            "Memory profiling using FLAT\n",
            "4865394432\n",
            "2600470272\n",
            "Memory profiling using FLAT\n",
            "4882171648\n",
            "2617247488\n",
            "Memory profiling using FLAT\n",
            "5435819776\n",
            "3707766528\n",
            "Memory profiling using FLAT\n",
            "5989467904\n",
            "3724543744\n"
          ]
        }
      ]
    },
    {
      "cell_type": "code",
      "metadata": {
        "id": "kntxUU2JxLgh"
      },
      "source": [
        "# Check Result\n",
        "diff = np.abs((np.concatenate(res) - np.concatenate(new_res))) < 1\n",
        "np.all(diff)"
      ],
      "execution_count": null,
      "outputs": []
    },
    {
      "cell_type": "code",
      "metadata": {
        "id": "6Y79LsNtEg5a"
      },
      "source": [
        "output"
      ],
      "execution_count": null,
      "outputs": []
    },
    {
      "cell_type": "code",
      "metadata": {
        "colab": {
          "base_uri": "https://localhost:8080/"
        },
        "id": "hYlGMXOba90J",
        "outputId": "42bc764a-f501-4cc9-92c0-7276073be824"
      },
      "source": [
        "old_attention_output = tf.cast(old_attention_output, dtype=tf.float64)\n",
        "old_attention_output.shape"
      ],
      "execution_count": null,
      "outputs": [
        {
          "data": {
            "text/plain": [
              "TensorShape([32, 32, 2, 10])"
            ]
          },
          "execution_count": 70,
          "metadata": {},
          "output_type": "execute_result"
        }
      ]
    },
    {
      "cell_type": "code",
      "metadata": {
        "id": "XSLnTX2gxNZG"
      },
      "source": [
        "np.abs(output - old_attention_output) < 0.1"
      ],
      "execution_count": null,
      "outputs": []
    },
    {
      "cell_type": "code",
      "metadata": {
        "id": "hUXvdSQK3WkS"
      },
      "source": [
        "1. GPU timing\n",
        "2. visualization\n",
        "3. Compress to one function\n",
        "4. Powerpoint\n",
        "5. Github page with a UI"
      ],
      "execution_count": null,
      "outputs": []
    }
  ]
}